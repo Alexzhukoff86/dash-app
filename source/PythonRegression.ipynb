{
 "cells": [
  {
   "cell_type": "markdown",
   "metadata": {},
   "source": [
    "# Linear Regression in Python "
   ]
  },
  {
   "cell_type": "code",
   "execution_count": 2,
   "metadata": {},
   "outputs": [],
   "source": [
    "# Linear Regression Using Statsmodels.api \n",
    "import statsmodels.api as sm\n",
    "import pandas as pd"
   ]
  },
  {
   "cell_type": "markdown",
   "metadata": {},
   "source": [
    "# Data Preprocessing"
   ]
  },
  {
   "cell_type": "code",
   "execution_count": 3,
   "metadata": {},
   "outputs": [],
   "source": [
    "# Reading the Data\n",
    "data = pd.read_csv(\"insurance.csv\", delimiter = \",\")"
   ]
  },
  {
   "cell_type": "code",
   "execution_count": 4,
   "metadata": {},
   "outputs": [
    {
     "name": "stdout",
     "output_type": "stream",
     "text": [
      "   age     sex     bmi  children smoker     region      charges\n",
      "0   19  female  27.900         0    yes  southwest  16884.92400\n",
      "1   18    male  33.770         1     no  southeast   1725.55230\n",
      "2   28    male  33.000         3     no  southeast   4449.46200\n",
      "3   33    male  22.705         0     no  northwest  21984.47061\n",
      "4   32    male  28.880         0     no  northwest   3866.85520\n"
     ]
    }
   ],
   "source": [
    "print(data.head(n=5))"
   ]
  },
  {
   "cell_type": "code",
   "execution_count": 11,
   "metadata": {},
   "outputs": [
    {
     "name": "stdout",
     "output_type": "stream",
     "text": [
      "   age  sex     bmi  children  smoker  region      charges\n",
      "0   19    0  27.900         0       1       3  16884.92400\n",
      "1   18    1  33.770         1       0       2   1725.55230\n",
      "2   28    1  33.000         3       0       2   4449.46200\n",
      "3   33    1  22.705         0       0       1  21984.47061\n",
      "4   32    1  28.880         0       0       1   3866.85520\n"
     ]
    }
   ],
   "source": [
    "# Getting the data ready for the models\n",
    "data = pd.DataFrame(data) \n",
    "predictors = data.iloc[:,:6] #all columns except charges \n",
    "y = data.iloc[:,-1] #charges, response variable\n",
    "df = data.copy() #copying the data \n",
    "\n",
    "# Label encoding the data - from categorical to numerical \n",
    "object_df = data.select_dtypes(include=['object']).copy()\n",
    "object_df[\"sex\"] = object_df[\"sex\"].astype('category')\n",
    "object_df[\"smoker\"] = object_df[\"smoker\"].astype('category')\n",
    "object_df[\"region\"] = object_df[\"region\"].astype('category') \n",
    "\n",
    "object_df[\"sex_binary\"] = object_df[\"sex\"].cat.codes\n",
    "object_df[\"smoker_binary\"] = object_df[\"smoker\"].cat.codes\n",
    "object_df[\"region_encoded\"] = object_df[\"region\"].cat.codes\n",
    "\n",
    "\n",
    "#changing the columns in the data\n",
    "df[\"sex\"] = object_df[\"sex_binary\"]\n",
    "df[\"smoker\"] = object_df[\"smoker_binary\"]\n",
    "df[\"region\"] = object_df[\"region_encoded\"] \n",
    "\n",
    "\n",
    "print(df.head(n=5))"
   ]
  },
  {
   "cell_type": "markdown",
   "metadata": {},
   "source": [
    "# Modeling"
   ]
  },
  {
   "cell_type": "code",
   "execution_count": 13,
   "metadata": {},
   "outputs": [
    {
     "name": "stdout",
     "output_type": "stream",
     "text": [
      "age vs. charges:                              OLS Regression Results                            \n",
      "==============================================================================\n",
      "Dep. Variable:                charges   R-squared:                       0.089\n",
      "Model:                            OLS   Adj. R-squared:                  0.089\n",
      "Method:                 Least Squares   F-statistic:                     131.2\n",
      "Date:                Tue, 17 Nov 2020   Prob (F-statistic):           4.89e-29\n",
      "Time:                        19:11:13   Log-Likelihood:                -14415.\n",
      "No. Observations:                1338   AIC:                         2.883e+04\n",
      "Df Residuals:                    1336   BIC:                         2.884e+04\n",
      "Df Model:                           1                                         \n",
      "Covariance Type:            nonrobust                                         \n",
      "==============================================================================\n",
      "                 coef    std err          t      P>|t|      [0.025      0.975]\n",
      "------------------------------------------------------------------------------\n",
      "const       3165.8850    937.149      3.378      0.001    1327.440    5004.330\n",
      "age          257.7226     22.502     11.453      0.000     213.579     301.866\n",
      "==============================================================================\n",
      "Omnibus:                      399.600   Durbin-Watson:                   2.033\n",
      "Prob(Omnibus):                  0.000   Jarque-Bera (JB):              864.239\n",
      "Skew:                           1.733   Prob(JB):                    2.15e-188\n",
      "Kurtosis:                       4.869   Cond. No.                         124.\n",
      "==============================================================================\n",
      "\n",
      "Warnings:\n",
      "[1] Standard Errors assume that the covariance matrix of the errors is correctly specified.\n",
      "sex vs. charges:                              OLS Regression Results                            \n",
      "==============================================================================\n",
      "Dep. Variable:                charges   R-squared:                       0.003\n",
      "Model:                            OLS   Adj. R-squared:                  0.003\n",
      "Method:                 Least Squares   F-statistic:                     4.400\n",
      "Date:                Tue, 17 Nov 2020   Prob (F-statistic):             0.0361\n",
      "Time:                        19:11:13   Log-Likelihood:                -14475.\n",
      "No. Observations:                1338   AIC:                         2.895e+04\n",
      "Df Residuals:                    1336   BIC:                         2.897e+04\n",
      "Df Model:                           1                                         \n",
      "Covariance Type:            nonrobust                                         \n",
      "==============================================================================\n",
      "                 coef    std err          t      P>|t|      [0.025      0.975]\n",
      "------------------------------------------------------------------------------\n",
      "const       1.257e+04    470.072     26.740      0.000    1.16e+04    1.35e+04\n",
      "sex         1387.1723    661.331      2.098      0.036      89.812    2684.532\n",
      "==============================================================================\n",
      "Omnibus:                      331.451   Durbin-Watson:                   2.011\n",
      "Prob(Omnibus):                  0.000   Jarque-Bera (JB):              636.534\n",
      "Skew:                           1.496   Prob(JB):                    6.00e-139\n",
      "Kurtosis:                       4.572   Cond. No.                         2.63\n",
      "==============================================================================\n",
      "\n",
      "Warnings:\n",
      "[1] Standard Errors assume that the covariance matrix of the errors is correctly specified.\n",
      "bmi vs. charges:                              OLS Regression Results                            \n",
      "==============================================================================\n",
      "Dep. Variable:                charges   R-squared:                       0.039\n",
      "Model:                            OLS   Adj. R-squared:                  0.039\n",
      "Method:                 Least Squares   F-statistic:                     54.71\n",
      "Date:                Tue, 17 Nov 2020   Prob (F-statistic):           2.46e-13\n",
      "Time:                        19:11:13   Log-Likelihood:                -14451.\n",
      "No. Observations:                1338   AIC:                         2.891e+04\n",
      "Df Residuals:                    1336   BIC:                         2.892e+04\n",
      "Df Model:                           1                                         \n",
      "Covariance Type:            nonrobust                                         \n",
      "==============================================================================\n",
      "                 coef    std err          t      P>|t|      [0.025      0.975]\n",
      "------------------------------------------------------------------------------\n",
      "const       1192.9372   1664.802      0.717      0.474   -2072.974    4458.849\n",
      "bmi          393.8730     53.251      7.397      0.000     289.409     498.337\n",
      "==============================================================================\n",
      "Omnibus:                      261.030   Durbin-Watson:                   1.983\n",
      "Prob(Omnibus):                  0.000   Jarque-Bera (JB):              431.091\n",
      "Skew:                           1.297   Prob(JB):                     2.45e-94\n",
      "Kurtosis:                       4.004   Cond. No.                         160.\n",
      "==============================================================================\n",
      "\n",
      "Warnings:\n",
      "[1] Standard Errors assume that the covariance matrix of the errors is correctly specified.\n",
      "children vs. charges:                              OLS Regression Results                            \n",
      "==============================================================================\n",
      "Dep. Variable:                charges   R-squared:                       0.005\n",
      "Model:                            OLS   Adj. R-squared:                  0.004\n",
      "Method:                 Least Squares   F-statistic:                     6.206\n",
      "Date:                Tue, 17 Nov 2020   Prob (F-statistic):             0.0129\n",
      "Time:                        19:11:13   Log-Likelihood:                -14475.\n",
      "No. Observations:                1338   AIC:                         2.895e+04\n",
      "Df Residuals:                    1336   BIC:                         2.896e+04\n",
      "Df Model:                           1                                         \n",
      "Covariance Type:            nonrobust                                         \n",
      "==============================================================================\n",
      "                 coef    std err          t      P>|t|      [0.025      0.975]\n",
      "------------------------------------------------------------------------------\n",
      "const       1.252e+04    446.450     28.049      0.000    1.16e+04    1.34e+04\n",
      "children     683.0894    274.202      2.491      0.013     145.176    1221.002\n",
      "==============================================================================\n",
      "Omnibus:                      341.103   Durbin-Watson:                   2.003\n",
      "Prob(Omnibus):                  0.000   Jarque-Bera (JB):              666.755\n",
      "Skew:                           1.528   Prob(JB):                    1.64e-145\n",
      "Kurtosis:                       4.619   Cond. No.                         2.65\n",
      "==============================================================================\n",
      "\n",
      "Warnings:\n",
      "[1] Standard Errors assume that the covariance matrix of the errors is correctly specified.\n",
      "smoker vs. charges:                              OLS Regression Results                            \n",
      "==============================================================================\n",
      "Dep. Variable:                charges   R-squared:                       0.620\n",
      "Model:                            OLS   Adj. R-squared:                  0.619\n",
      "Method:                 Least Squares   F-statistic:                     2178.\n",
      "Date:                Tue, 17 Nov 2020   Prob (F-statistic):          8.27e-283\n",
      "Time:                        19:11:13   Log-Likelihood:                -13831.\n",
      "No. Observations:                1338   AIC:                         2.767e+04\n",
      "Df Residuals:                    1336   BIC:                         2.768e+04\n",
      "Df Model:                           1                                         \n",
      "Covariance Type:            nonrobust                                         \n",
      "==============================================================================\n",
      "                 coef    std err          t      P>|t|      [0.025      0.975]\n",
      "------------------------------------------------------------------------------\n",
      "const       8434.2683    229.014     36.829      0.000    7985.002    8883.535\n",
      "smoker      2.362e+04    506.075     46.665      0.000    2.26e+04    2.46e+04\n",
      "==============================================================================\n",
      "Omnibus:                      135.996   Durbin-Watson:                   2.025\n",
      "Prob(Omnibus):                  0.000   Jarque-Bera (JB):              212.201\n",
      "Skew:                           0.727   Prob(JB):                     8.34e-47\n",
      "Kurtosis:                       4.300   Cond. No.                         2.60\n",
      "==============================================================================\n",
      "\n",
      "Warnings:\n",
      "[1] Standard Errors assume that the covariance matrix of the errors is correctly specified.\n",
      "region vs. charges:                              OLS Regression Results                            \n",
      "==============================================================================\n",
      "Dep. Variable:                charges   R-squared:                       0.000\n",
      "Model:                            OLS   Adj. R-squared:                 -0.001\n",
      "Method:                 Least Squares   F-statistic:                   0.05149\n",
      "Date:                Tue, 17 Nov 2020   Prob (F-statistic):              0.821\n",
      "Time:                        19:11:13   Log-Likelihood:                -14478.\n",
      "No. Observations:                1338   AIC:                         2.896e+04\n",
      "Df Residuals:                    1336   BIC:                         2.897e+04\n",
      "Df Model:                           1                                         \n",
      "Covariance Type:            nonrobust                                         \n",
      "==============================================================================\n",
      "                 coef    std err          t      P>|t|      [0.025      0.975]\n",
      "------------------------------------------------------------------------------\n",
      "const       1.337e+04    562.359     23.781      0.000    1.23e+04    1.45e+04\n",
      "region       -68.0449    299.858     -0.227      0.821    -656.289     520.199\n",
      "==============================================================================\n",
      "Omnibus:                      337.427   Durbin-Watson:                   2.003\n",
      "Prob(Omnibus):                  0.000   Jarque-Bera (JB):              655.098\n",
      "Skew:                           1.516   Prob(JB):                    5.59e-143\n",
      "Kurtosis:                       4.600   Cond. No.                         3.83\n",
      "==============================================================================\n",
      "\n",
      "Warnings:\n",
      "[1] Standard Errors assume that the covariance matrix of the errors is correctly specified.\n"
     ]
    }
   ],
   "source": [
    "# Models \n",
    "predictors = df.iloc[:,:6] #all columns except charges - using the new dataframe, 'df' \n",
    "for i in predictors: \n",
    "    X = predictors[i] \n",
    "    X = sm.add_constant(X) #adding a constant - adding an intercept otherwise we would get the wrong model\n",
    "    model = sm.OLS(y,X) \n",
    "    results = model.fit() \n",
    "    print(f\"{i} vs. charges: \", results.summary())"
   ]
  }
 ],
 "metadata": {
  "kernelspec": {
   "display_name": "Python 3",
   "language": "python",
   "name": "python3"
  },
  "language_info": {
   "codemirror_mode": {
    "name": "ipython",
    "version": 3
   },
   "file_extension": ".py",
   "mimetype": "text/x-python",
   "name": "python",
   "nbconvert_exporter": "python",
   "pygments_lexer": "ipython3",
   "version": "3.7.6"
  }
 },
 "nbformat": 4,
 "nbformat_minor": 4
}
